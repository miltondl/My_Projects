{
 "cells": [
  {
   "cell_type": "code",
   "execution_count": null,
   "id": "f0e31849",
   "metadata": {},
   "outputs": [],
   "source": [
    "# -------------------------------\n",
    "# Imports & Setup\n",
    "# -------------------------------\n",
    "!pip install dtlpy pandas requests beautifulsoup4 google-cloud-bigquery\n",
    "\n",
    "import dtlpy as dl\n",
    "from datetime import date, timedelta\n",
    "import requests\n",
    "from bs4 import BeautifulSoup\n",
    "import pandas as pd\n",
    "import json\n",
    "from google.cloud import bigquery\n"
   ]
  },
  {
   "cell_type": "code",
   "execution_count": null,
   "id": "9dd8b9c6",
   "metadata": {},
   "outputs": [],
   "source": [
    "# -------------------------------\n",
    "# Date Utilities\n",
    "# -------------------------------\n",
    "def get_yesterday_and_today():\n",
    "    today = date.today()\n",
    "    yesterday = today - timedelta(days=1)\n",
    "    return yesterday.strftime(\"%Y-%m-%d\"), today.strftime(\"%Y-%m-%d\")\n",
    "\n",
    "def get_last_date():\n",
    "    query = \"SELECT MAX(date) FROM `patches_quality_report_all`\"\n",
    "    client = bigquery.Client(project='project_id')\n",
    "    results = client.query(query).to_dataframe()\n",
    "    return str(results.iloc[0][0])\n"
   ]
  },
  {
   "cell_type": "code",
   "execution_count": null,
   "id": "061166d4",
   "metadata": {},
   "outputs": [],
   "source": [
    "# -------------------------------\n",
    "# Fetch Patches Report (Mock BigQuery)\n",
    "# -------------------------------\n",
    "def get_patches_report(start_date, finish_date):\n",
    "    query = f\"\"\"\n",
    "    SELECT * FROM `human_patches_clear_data`\n",
    "    WHERE is_correct_answer = False\n",
    "      AND date > '{start_date}' \n",
    "      AND date < '{finish_date}'\n",
    "    \"\"\"\n",
    "    client = bigquery.Client(project='project_name')\n",
    "    results = client.query(query).to_dataframe()\n",
    "    return results\n",
    "\n",
    "# Example usage:\n",
    "start_date, finish_date = get_yesterday_and_today()\n",
    "results = get_patches_report(start_date, finish_date)\n"
   ]
  },
  {
   "cell_type": "code",
   "execution_count": null,
   "id": "ba09eb12",
   "metadata": {},
   "outputs": [],
   "source": [
    "# -------------------------------\n",
    "# Extract Patch Image Links\n",
    "# -------------------------------\n",
    "def build_patch_report(results):\n",
    "    list_all_patches = [dict(results.iloc[i]) for i in range(len(results))]\n",
    "    patch_report_list = []\n",
    "\n",
    "    for row in list_all_patches:\n",
    "        url = row.get(\"patch_url\")\n",
    "        response = requests.get(url)\n",
    "        \n",
    "        if response.status_code == 200:\n",
    "            soup = BeautifulSoup(response.content, \"html.parser\")\n",
    "            image_url = [img[\"src\"] for img in soup.find_all(\"img\")][0]\n",
    "\n",
    "            row_dict = {k: row[k] for k in row.keys()}\n",
    "            row_dict['link'] = image_url\n",
    "            row_dict['tagger'] = None\n",
    "            patch_report_list.append(row_dict)\n",
    "        else:\n",
    "            print(f\"Failed to retrieve images. Status code: {response.status_code}\")\n",
    "\n",
    "    return pd.DataFrame(patch_report_list)"
   ]
  },
  {
   "cell_type": "code",
   "execution_count": null,
   "id": "fd1d6823",
   "metadata": {},
   "outputs": [],
   "source": [
    "# -------------------------------\n",
    "# Mock Dataloop API\n",
    "# -------------------------------\n",
    "def get_creator_metadata(item_id):\n",
    "    return {item.metadata['annotation_item_id']:[(action['status']['creator'],action['status']['timestamp']) for action in item.metadata['system']['taskStatusLog'] if action['action'] == 'created']}\n",
    "    # {item_id: [(\"Tagger_1\", \"2025-09-07T10:00:00\")]}\n",
    "\n",
    "dataloop_project = dl.projects.get(project_id=\"project_id\")\n",
    "\n",
    "def get_tagger(row):\n",
    "    try:\n",
    "        dataset_id = row['dataloop_link'].split('datasets/')[1].rsplit('/items')[0]\n",
    "    except:\n",
    "        dataset_id = None\n",
    "\n",
    "    annotation_item_ids = row.get('annotation_item_ids')\n",
    "    if pd.isnull(annotation_item_ids) or dataset_id is None:\n",
    "        return None\n",
    "\n",
    "    dataset = dataloop_project.datasets.get(dataset_id=dataset_id)\n",
    "    filters = dl.Filters()\n",
    "    filters.add(field=\"metadata.annotation_item_id\", \n",
    "                values=json.loads(annotation_item_ids), \n",
    "                operator=dl.FiltersOperations.IN)\n",
    "    list_items = dataset.items.get_all_items(filters=filters)\n",
    "    taggers = [get_creator_metadata(item) for item in list_items]\n",
    "    \n",
    "    return taggers\n"
   ]
  },
  {
   "cell_type": "code",
   "execution_count": null,
   "id": "ddd70d19",
   "metadata": {},
   "outputs": [],
   "source": [
    "# -------------------------------\n",
    "# Run Pipeline\n",
    "# -------------------------------\n",
    "\n",
    "# Assign taggers\n",
    "patch_report_list['tagger'] = patch_report_list.apply(get_tagger, axis=1)\n",
    "\n",
    "# Clean dataset for portfolio\n",
    "patch_report_list = patch_report_list.drop_duplicates(subset=['patch_id'])\n",
    "patch_report_list['patch_id'] = patch_report_list['patch_id'].astype(int)\n",
    "\n",
    "# Keep only relevant columns\n",
    "patch_report_list = patch_report_list[['image_id', 'annotation_item_ids', 'dataloop_link', 'tagger', 'link']]\n"
   ]
  },
  {
   "cell_type": "code",
   "execution_count": null,
   "id": "cd216e39",
   "metadata": {},
   "outputs": [],
   "source": [
    "# -------------------------------\n",
    "# Upload to BigQuery (Portfolio-safe)\n",
    "# -------------------------------\n",
    "client = bigquery.Client(project='portfolio-project')\n",
    "table_id = \"portfolio_dataset.patch_reports\"\n",
    "\n",
    "job_config = bigquery.LoadJobConfig(write_disposition=\"WRITE_APPEND\")\n",
    "job = client.load_table_from_dataframe(patch_report_list, table_id, job_config=job_config)\n",
    "job.result()\n",
    "print(f\"Table {table_id} uploaded successfully.\")\n"
   ]
  }
 ],
 "metadata": {
  "kernelspec": {
   "display_name": "Python 3",
   "language": "python",
   "name": "python3"
  },
  "language_info": {
   "codemirror_mode": {
    "name": "ipython",
    "version": 3
   },
   "file_extension": ".py",
   "mimetype": "text/x-python",
   "name": "python",
   "nbconvert_exporter": "python",
   "pygments_lexer": "ipython3",
   "version": "3.13.2"
  }
 },
 "nbformat": 4,
 "nbformat_minor": 5
}
